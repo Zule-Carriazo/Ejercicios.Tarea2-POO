{
  "cells": [
    {
      "cell_type": "markdown",
      "metadata": {
        "id": "view-in-github",
        "colab_type": "text"
      },
      "source": [
        "<a href=\"https://colab.research.google.com/github/Zule-Carriazo/Ejercicios.Tarea2-POO/blob/main/Trabajo_sistema_de_recomendaci%C3%B3n_Zuleima.ipynb\" target=\"_parent\"><img src=\"https://colab.research.google.com/assets/colab-badge.svg\" alt=\"Open In Colab\"/></a>"
      ]
    },
    {
      "cell_type": "markdown",
      "metadata": {
        "id": "h36HUziYLf1k"
      },
      "source": [
        "# Integrantes grupo 5\n",
        "- Zuleima Beatriz Carriazo Manchego\n",
        "- Miyanis Manuela Londoño Vélez\n",
        "- Julián Alejandro Úsuga Ortiz\n",
        "- Deivid Zhang Figueroa"
      ]
    },
    {
      "cell_type": "markdown",
      "metadata": {
        "id": "rJ_WN5ZkLf1o"
      },
      "source": [
        "# Se cargan las bibliotecas necesarias"
      ]
    },
    {
      "cell_type": "code",
      "execution_count": 3,
      "metadata": {
        "colab": {
          "base_uri": "https://localhost:8080/"
        },
        "id": "_DGOeKKXLf1p",
        "outputId": "d93fae1f-3cce-49b7-bb94-58c72c8c41bd"
      },
      "outputs": [
        {
          "output_type": "stream",
          "name": "stderr",
          "text": [
            "/usr/local/lib/python3.10/dist-packages/ipykernel/ipkernel.py:283: DeprecationWarning: `should_run_async` will not call `transform_cell` automatically in the future. Please pass the result to `transformed_cell` argument and any exception that happen during thetransform in `preprocessing_exc_tuple` in IPython 7.17 and above.\n",
            "  and should_run_async(code)\n"
          ]
        }
      ],
      "source": [
        "import pandas as pd\n",
        "from mlxtend.frequent_patterns import apriori\n",
        "from mlxtend.frequent_patterns import association_rules\n",
        "import matplotlib.pyplot as plt\n",
        "import seaborn as sns\n",
        "from sklearn.metrics.pairwise import cosine_similarity"
      ]
    },
    {
      "cell_type": "markdown",
      "metadata": {
        "id": "RGBa1a7_Lf1r"
      },
      "source": [
        "# Introducción:\n",
        "En el contexto actual, la minería de datos juega un papel fundamental en la creación de sistemas de recomendación, que permiten personalizar la experiencia del usuario al sugerirle productos, servicios o contenido basado en sus preferencias. En este trabajo práctico, exploraremos la generación de reglas de asociación utilizando los algoritmos Apriori y FP-Growth, aplicados a un conjunto de datos proveniente de MovieLens (https://movielens.org/) una plataforma académica dedicada al estudio de sistemas de recomendación.\n",
        "\n",
        "El objetivo de este trabajo es que los estudiantes se familiaricen con las técnicas de minería de datos y desarrollen un sistema de recomendación que utilice estas técnicas. Empezaremos con la generación de reglas de asociación, para luego evolucionar hacia un algoritmo de filtrado colaborativo basado en ítems.\n",
        "\n",
        "# Dataset:\n",
        "\n",
        "El dataset de MovieLens está dividido en tres partes: entrenamiento, prueba y validación. Deben utilizar la parte de entrenamiento para construir su modelo y evaluar su rendimiento en las partes de prueba y validación.\n",
        "\n",
        "Para esta actividad se realizó un preprocesamiento en los datos para que puedan ser leídos en formato transacción. Cada transacción representa a un usuario y los itemsets de las transacciones son películas con calificaciones positivas realizadas por el usuario (al menos 3 estrellas de 5)."
      ]
    },
    {
      "cell_type": "markdown",
      "metadata": {
        "id": "z-2mkw3mLf1t"
      },
      "source": [
        "# Enunciados"
      ]
    },
    {
      "cell_type": "markdown",
      "metadata": {
        "id": "_Ls_jfVfLf1u"
      },
      "source": [
        "#### 1. Generación de Reglas de Asociación:\n",
        "- Realiza una exploración inicial del dataset.\n",
        "- ¿Cuál fue el soporte y la confianza mínima que estableciste para la generación de reglas? Justifica tu elección.\n",
        "- ¿Cuántas reglas de asociación obtuviste y cuáles consideras más relevantes?\n",
        "Explica por qué."
      ]
    },
    {
      "cell_type": "markdown",
      "metadata": {
        "id": "qFvW1R49NWqC"
      },
      "source": [
        "#### 1.A: Realiza una exploración inicial del dataset        \n",
        "\n",
        "Se carga el dataset con los datos de entrenamiento, y se verifica información general del dataset, se comprueban los valores faltantes en cada columna, y se obtiene el número de usuarios y películas únicas"
      ]
    },
    {
      "cell_type": "code",
      "execution_count": 4,
      "metadata": {
        "colab": {
          "base_uri": "https://localhost:8080/"
        },
        "id": "7NcwOlZoM-wd",
        "outputId": "9a156587-7e3c-4027-b9d7-af72de7e3353"
      },
      "outputs": [
        {
          "output_type": "stream",
          "name": "stderr",
          "text": [
            "/usr/local/lib/python3.10/dist-packages/ipykernel/ipkernel.py:283: DeprecationWarning: `should_run_async` will not call `transform_cell` automatically in the future. Please pass the result to `transformed_cell` argument and any exception that happen during thetransform in `preprocessing_exc_tuple` in IPython 7.17 and above.\n",
            "  and should_run_async(code)\n"
          ]
        },
        {
          "output_type": "stream",
          "name": "stdout",
          "text": [
            "Mounted at /content/drive\n"
          ]
        }
      ],
      "source": [
        "from google.colab import drive\n",
        "drive.mount('/content/drive')"
      ]
    },
    {
      "cell_type": "code",
      "execution_count": 5,
      "metadata": {
        "colab": {
          "base_uri": "https://localhost:8080/"
        },
        "id": "uhJ_zD_9Lf1v",
        "outputId": "cbd6d8f6-b14c-45a4-e90a-0a459f639199"
      },
      "outputs": [
        {
          "output_type": "stream",
          "name": "stderr",
          "text": [
            "/usr/local/lib/python3.10/dist-packages/ipykernel/ipkernel.py:283: DeprecationWarning: `should_run_async` will not call `transform_cell` automatically in the future. Please pass the result to `transformed_cell` argument and any exception that happen during thetransform in `preprocessing_exc_tuple` in IPython 7.17 and above.\n",
            "  and should_run_async(code)\n"
          ]
        },
        {
          "output_type": "stream",
          "name": "stdout",
          "text": [
            "<class 'pandas.core.frame.DataFrame'>\n",
            "RangeIndex: 768536 entries, 0 to 768535\n",
            "Data columns (total 3 columns):\n",
            " #   Column      Non-Null Count   Dtype \n",
            "---  ------      --------------   ----- \n",
            " 0   user_id     768536 non-null  int64 \n",
            " 1   movie_id    768536 non-null  int64 \n",
            " 2   movie_name  768536 non-null  object\n",
            "dtypes: int64(2), object(1)\n",
            "memory usage: 17.6+ MB\n",
            "user_id       0\n",
            "movie_id      0\n",
            "movie_name    0\n",
            "dtype: int64\n",
            "Usuarios únicos: 5539\n",
            "Películas únicas: 3621\n"
          ]
        }
      ],
      "source": [
        "df = pd.read_csv('/content/drive/MyDrive/Colab Notebooks/movies_train.csv')\n",
        "\n",
        "df.info()\n",
        "\n",
        "print(df.isnull().sum())\n",
        "\n",
        "num_users = df['user_id'].nunique()\n",
        "num_movies = df['movie_id'].nunique()\n",
        "\n",
        "print(f\"Usuarios únicos: {num_users}\")\n",
        "print(f\"Películas únicas: {num_movies}\")"
      ]
    },
    {
      "cell_type": "markdown",
      "metadata": {
        "id": "oRdrcNpTNrnX"
      },
      "source": [
        "Se presentan las 10 transacciones finsles para entender la estructura"
      ]
    },
    {
      "cell_type": "code",
      "execution_count": 6,
      "metadata": {
        "colab": {
          "base_uri": "https://localhost:8080/",
          "height": 417
        },
        "id": "vNQVZnvZNuBo",
        "outputId": "1baf8c3e-b3fa-44f4-87f9-e0dc61162224"
      },
      "outputs": [
        {
          "output_type": "stream",
          "name": "stderr",
          "text": [
            "/usr/local/lib/python3.10/dist-packages/ipykernel/ipkernel.py:283: DeprecationWarning: `should_run_async` will not call `transform_cell` automatically in the future. Please pass the result to `transformed_cell` argument and any exception that happen during thetransform in `preprocessing_exc_tuple` in IPython 7.17 and above.\n",
            "  and should_run_async(code)\n"
          ]
        },
        {
          "output_type": "execute_result",
          "data": {
            "text/plain": [
              "        user_id  movie_id                                movie_name\n",
              "768526     6040      1242                              Glory (1989)\n",
              "768527     6040      2725                   Twin Falls Idaho (1999)\n",
              "768528     6040       910                   Some Like It Hot (1959)\n",
              "768529     6040      1537  Shall We Dance? (Shall We Dansu?) (1996)\n",
              "768530     6040       162                              Crumb (1994)\n",
              "768531     6040      2395                           Rushmore (1998)\n",
              "768532     6040      1077                            Sleeper (1973)\n",
              "768533     6040       908                 North by Northwest (1959)\n",
              "768534     6040      1172                    Cinema Paradiso (1988)\n",
              "768535     6040        32                     Twelve Monkeys (1995)"
            ],
            "text/html": [
              "\n",
              "  <div id=\"df-059cb8d2-a253-4f46-9fcf-af8fe70b27f0\" class=\"colab-df-container\">\n",
              "    <div>\n",
              "<style scoped>\n",
              "    .dataframe tbody tr th:only-of-type {\n",
              "        vertical-align: middle;\n",
              "    }\n",
              "\n",
              "    .dataframe tbody tr th {\n",
              "        vertical-align: top;\n",
              "    }\n",
              "\n",
              "    .dataframe thead th {\n",
              "        text-align: right;\n",
              "    }\n",
              "</style>\n",
              "<table border=\"1\" class=\"dataframe\">\n",
              "  <thead>\n",
              "    <tr style=\"text-align: right;\">\n",
              "      <th></th>\n",
              "      <th>user_id</th>\n",
              "      <th>movie_id</th>\n",
              "      <th>movie_name</th>\n",
              "    </tr>\n",
              "  </thead>\n",
              "  <tbody>\n",
              "    <tr>\n",
              "      <th>768526</th>\n",
              "      <td>6040</td>\n",
              "      <td>1242</td>\n",
              "      <td>Glory (1989)</td>\n",
              "    </tr>\n",
              "    <tr>\n",
              "      <th>768527</th>\n",
              "      <td>6040</td>\n",
              "      <td>2725</td>\n",
              "      <td>Twin Falls Idaho (1999)</td>\n",
              "    </tr>\n",
              "    <tr>\n",
              "      <th>768528</th>\n",
              "      <td>6040</td>\n",
              "      <td>910</td>\n",
              "      <td>Some Like It Hot (1959)</td>\n",
              "    </tr>\n",
              "    <tr>\n",
              "      <th>768529</th>\n",
              "      <td>6040</td>\n",
              "      <td>1537</td>\n",
              "      <td>Shall We Dance? (Shall We Dansu?) (1996)</td>\n",
              "    </tr>\n",
              "    <tr>\n",
              "      <th>768530</th>\n",
              "      <td>6040</td>\n",
              "      <td>162</td>\n",
              "      <td>Crumb (1994)</td>\n",
              "    </tr>\n",
              "    <tr>\n",
              "      <th>768531</th>\n",
              "      <td>6040</td>\n",
              "      <td>2395</td>\n",
              "      <td>Rushmore (1998)</td>\n",
              "    </tr>\n",
              "    <tr>\n",
              "      <th>768532</th>\n",
              "      <td>6040</td>\n",
              "      <td>1077</td>\n",
              "      <td>Sleeper (1973)</td>\n",
              "    </tr>\n",
              "    <tr>\n",
              "      <th>768533</th>\n",
              "      <td>6040</td>\n",
              "      <td>908</td>\n",
              "      <td>North by Northwest (1959)</td>\n",
              "    </tr>\n",
              "    <tr>\n",
              "      <th>768534</th>\n",
              "      <td>6040</td>\n",
              "      <td>1172</td>\n",
              "      <td>Cinema Paradiso (1988)</td>\n",
              "    </tr>\n",
              "    <tr>\n",
              "      <th>768535</th>\n",
              "      <td>6040</td>\n",
              "      <td>32</td>\n",
              "      <td>Twelve Monkeys (1995)</td>\n",
              "    </tr>\n",
              "  </tbody>\n",
              "</table>\n",
              "</div>\n",
              "    <div class=\"colab-df-buttons\">\n",
              "\n",
              "  <div class=\"colab-df-container\">\n",
              "    <button class=\"colab-df-convert\" onclick=\"convertToInteractive('df-059cb8d2-a253-4f46-9fcf-af8fe70b27f0')\"\n",
              "            title=\"Convert this dataframe to an interactive table.\"\n",
              "            style=\"display:none;\">\n",
              "\n",
              "  <svg xmlns=\"http://www.w3.org/2000/svg\" height=\"24px\" viewBox=\"0 -960 960 960\">\n",
              "    <path d=\"M120-120v-720h720v720H120Zm60-500h600v-160H180v160Zm220 220h160v-160H400v160Zm0 220h160v-160H400v160ZM180-400h160v-160H180v160Zm440 0h160v-160H620v160ZM180-180h160v-160H180v160Zm440 0h160v-160H620v160Z\"/>\n",
              "  </svg>\n",
              "    </button>\n",
              "\n",
              "  <style>\n",
              "    .colab-df-container {\n",
              "      display:flex;\n",
              "      gap: 12px;\n",
              "    }\n",
              "\n",
              "    .colab-df-convert {\n",
              "      background-color: #E8F0FE;\n",
              "      border: none;\n",
              "      border-radius: 50%;\n",
              "      cursor: pointer;\n",
              "      display: none;\n",
              "      fill: #1967D2;\n",
              "      height: 32px;\n",
              "      padding: 0 0 0 0;\n",
              "      width: 32px;\n",
              "    }\n",
              "\n",
              "    .colab-df-convert:hover {\n",
              "      background-color: #E2EBFA;\n",
              "      box-shadow: 0px 1px 2px rgba(60, 64, 67, 0.3), 0px 1px 3px 1px rgba(60, 64, 67, 0.15);\n",
              "      fill: #174EA6;\n",
              "    }\n",
              "\n",
              "    .colab-df-buttons div {\n",
              "      margin-bottom: 4px;\n",
              "    }\n",
              "\n",
              "    [theme=dark] .colab-df-convert {\n",
              "      background-color: #3B4455;\n",
              "      fill: #D2E3FC;\n",
              "    }\n",
              "\n",
              "    [theme=dark] .colab-df-convert:hover {\n",
              "      background-color: #434B5C;\n",
              "      box-shadow: 0px 1px 3px 1px rgba(0, 0, 0, 0.15);\n",
              "      filter: drop-shadow(0px 1px 2px rgba(0, 0, 0, 0.3));\n",
              "      fill: #FFFFFF;\n",
              "    }\n",
              "  </style>\n",
              "\n",
              "    <script>\n",
              "      const buttonEl =\n",
              "        document.querySelector('#df-059cb8d2-a253-4f46-9fcf-af8fe70b27f0 button.colab-df-convert');\n",
              "      buttonEl.style.display =\n",
              "        google.colab.kernel.accessAllowed ? 'block' : 'none';\n",
              "\n",
              "      async function convertToInteractive(key) {\n",
              "        const element = document.querySelector('#df-059cb8d2-a253-4f46-9fcf-af8fe70b27f0');\n",
              "        const dataTable =\n",
              "          await google.colab.kernel.invokeFunction('convertToInteractive',\n",
              "                                                    [key], {});\n",
              "        if (!dataTable) return;\n",
              "\n",
              "        const docLinkHtml = 'Like what you see? Visit the ' +\n",
              "          '<a target=\"_blank\" href=https://colab.research.google.com/notebooks/data_table.ipynb>data table notebook</a>'\n",
              "          + ' to learn more about interactive tables.';\n",
              "        element.innerHTML = '';\n",
              "        dataTable['output_type'] = 'display_data';\n",
              "        await google.colab.output.renderOutput(dataTable, element);\n",
              "        const docLink = document.createElement('div');\n",
              "        docLink.innerHTML = docLinkHtml;\n",
              "        element.appendChild(docLink);\n",
              "      }\n",
              "    </script>\n",
              "  </div>\n",
              "\n",
              "\n",
              "<div id=\"df-bb9df9ac-4549-4de9-8b4d-baad608eefb1\">\n",
              "  <button class=\"colab-df-quickchart\" onclick=\"quickchart('df-bb9df9ac-4549-4de9-8b4d-baad608eefb1')\"\n",
              "            title=\"Suggest charts\"\n",
              "            style=\"display:none;\">\n",
              "\n",
              "<svg xmlns=\"http://www.w3.org/2000/svg\" height=\"24px\"viewBox=\"0 0 24 24\"\n",
              "     width=\"24px\">\n",
              "    <g>\n",
              "        <path d=\"M19 3H5c-1.1 0-2 .9-2 2v14c0 1.1.9 2 2 2h14c1.1 0 2-.9 2-2V5c0-1.1-.9-2-2-2zM9 17H7v-7h2v7zm4 0h-2V7h2v10zm4 0h-2v-4h2v4z\"/>\n",
              "    </g>\n",
              "</svg>\n",
              "  </button>\n",
              "\n",
              "<style>\n",
              "  .colab-df-quickchart {\n",
              "      --bg-color: #E8F0FE;\n",
              "      --fill-color: #1967D2;\n",
              "      --hover-bg-color: #E2EBFA;\n",
              "      --hover-fill-color: #174EA6;\n",
              "      --disabled-fill-color: #AAA;\n",
              "      --disabled-bg-color: #DDD;\n",
              "  }\n",
              "\n",
              "  [theme=dark] .colab-df-quickchart {\n",
              "      --bg-color: #3B4455;\n",
              "      --fill-color: #D2E3FC;\n",
              "      --hover-bg-color: #434B5C;\n",
              "      --hover-fill-color: #FFFFFF;\n",
              "      --disabled-bg-color: #3B4455;\n",
              "      --disabled-fill-color: #666;\n",
              "  }\n",
              "\n",
              "  .colab-df-quickchart {\n",
              "    background-color: var(--bg-color);\n",
              "    border: none;\n",
              "    border-radius: 50%;\n",
              "    cursor: pointer;\n",
              "    display: none;\n",
              "    fill: var(--fill-color);\n",
              "    height: 32px;\n",
              "    padding: 0;\n",
              "    width: 32px;\n",
              "  }\n",
              "\n",
              "  .colab-df-quickchart:hover {\n",
              "    background-color: var(--hover-bg-color);\n",
              "    box-shadow: 0 1px 2px rgba(60, 64, 67, 0.3), 0 1px 3px 1px rgba(60, 64, 67, 0.15);\n",
              "    fill: var(--button-hover-fill-color);\n",
              "  }\n",
              "\n",
              "  .colab-df-quickchart-complete:disabled,\n",
              "  .colab-df-quickchart-complete:disabled:hover {\n",
              "    background-color: var(--disabled-bg-color);\n",
              "    fill: var(--disabled-fill-color);\n",
              "    box-shadow: none;\n",
              "  }\n",
              "\n",
              "  .colab-df-spinner {\n",
              "    border: 2px solid var(--fill-color);\n",
              "    border-color: transparent;\n",
              "    border-bottom-color: var(--fill-color);\n",
              "    animation:\n",
              "      spin 1s steps(1) infinite;\n",
              "  }\n",
              "\n",
              "  @keyframes spin {\n",
              "    0% {\n",
              "      border-color: transparent;\n",
              "      border-bottom-color: var(--fill-color);\n",
              "      border-left-color: var(--fill-color);\n",
              "    }\n",
              "    20% {\n",
              "      border-color: transparent;\n",
              "      border-left-color: var(--fill-color);\n",
              "      border-top-color: var(--fill-color);\n",
              "    }\n",
              "    30% {\n",
              "      border-color: transparent;\n",
              "      border-left-color: var(--fill-color);\n",
              "      border-top-color: var(--fill-color);\n",
              "      border-right-color: var(--fill-color);\n",
              "    }\n",
              "    40% {\n",
              "      border-color: transparent;\n",
              "      border-right-color: var(--fill-color);\n",
              "      border-top-color: var(--fill-color);\n",
              "    }\n",
              "    60% {\n",
              "      border-color: transparent;\n",
              "      border-right-color: var(--fill-color);\n",
              "    }\n",
              "    80% {\n",
              "      border-color: transparent;\n",
              "      border-right-color: var(--fill-color);\n",
              "      border-bottom-color: var(--fill-color);\n",
              "    }\n",
              "    90% {\n",
              "      border-color: transparent;\n",
              "      border-bottom-color: var(--fill-color);\n",
              "    }\n",
              "  }\n",
              "</style>\n",
              "\n",
              "  <script>\n",
              "    async function quickchart(key) {\n",
              "      const quickchartButtonEl =\n",
              "        document.querySelector('#' + key + ' button');\n",
              "      quickchartButtonEl.disabled = true;  // To prevent multiple clicks.\n",
              "      quickchartButtonEl.classList.add('colab-df-spinner');\n",
              "      try {\n",
              "        const charts = await google.colab.kernel.invokeFunction(\n",
              "            'suggestCharts', [key], {});\n",
              "      } catch (error) {\n",
              "        console.error('Error during call to suggestCharts:', error);\n",
              "      }\n",
              "      quickchartButtonEl.classList.remove('colab-df-spinner');\n",
              "      quickchartButtonEl.classList.add('colab-df-quickchart-complete');\n",
              "    }\n",
              "    (() => {\n",
              "      let quickchartButtonEl =\n",
              "        document.querySelector('#df-bb9df9ac-4549-4de9-8b4d-baad608eefb1 button');\n",
              "      quickchartButtonEl.style.display =\n",
              "        google.colab.kernel.accessAllowed ? 'block' : 'none';\n",
              "    })();\n",
              "  </script>\n",
              "</div>\n",
              "\n",
              "    </div>\n",
              "  </div>\n"
            ],
            "application/vnd.google.colaboratory.intrinsic+json": {
              "type": "dataframe",
              "summary": "{\n  \"name\": \"df\",\n  \"rows\": 10,\n  \"fields\": [\n    {\n      \"column\": \"user_id\",\n      \"properties\": {\n        \"dtype\": \"number\",\n        \"std\": 0,\n        \"min\": 6040,\n        \"max\": 6040,\n        \"num_unique_values\": 1,\n        \"samples\": [\n          6040\n        ],\n        \"semantic_type\": \"\",\n        \"description\": \"\"\n      }\n    },\n    {\n      \"column\": \"movie_id\",\n      \"properties\": {\n        \"dtype\": \"number\",\n        \"std\": 849,\n        \"min\": 32,\n        \"max\": 2725,\n        \"num_unique_values\": 10,\n        \"samples\": [\n          1172\n        ],\n        \"semantic_type\": \"\",\n        \"description\": \"\"\n      }\n    },\n    {\n      \"column\": \"movie_name\",\n      \"properties\": {\n        \"dtype\": \"string\",\n        \"num_unique_values\": 10,\n        \"samples\": [\n          \"Cinema Paradiso (1988)\"\n        ],\n        \"semantic_type\": \"\",\n        \"description\": \"\"\n      }\n    }\n  ]\n}"
            }
          },
          "metadata": {},
          "execution_count": 6
        }
      ],
      "source": [
        "df.tail(10)"
      ]
    },
    {
      "cell_type": "markdown",
      "metadata": {
        "id": "ro1UON_0NyGM"
      },
      "source": [
        "### Frecuencia de las películas más vistas\n",
        "\n",
        "Se muestra el top de las 10 películas más vistas, y la frecuencia de interacción con ellas"
      ]
    },
    {
      "cell_type": "code",
      "execution_count": 7,
      "metadata": {
        "colab": {
          "base_uri": "https://localhost:8080/",
          "height": 1000
        },
        "id": "YO7Y9TvrNt9C",
        "outputId": "bd4361f8-8ed9-48c8-9c3e-7047d3cc7784"
      },
      "outputs": [
        {
          "output_type": "stream",
          "name": "stderr",
          "text": [
            "/usr/local/lib/python3.10/dist-packages/ipykernel/ipkernel.py:283: DeprecationWarning: `should_run_async` will not call `transform_cell` automatically in the future. Please pass the result to `transformed_cell` argument and any exception that happen during thetransform in `preprocessing_exc_tuple` in IPython 7.17 and above.\n",
            "  and should_run_async(code)\n"
          ]
        },
        {
          "output_type": "display_data",
          "data": {
            "text/plain": [
              "<Figure size 700x500 with 1 Axes>"
            ],
            "image/png": "[encoded data removed]"
          },
          "metadata": {}
        },
        {
          "output_type": "stream",
          "name": "stdout",
          "text": [
            "Top 10 de las películas más vistas: movie_name\n",
            "American Beauty (1999)                                   2934\n",
            "Star Wars: Episode V - The Empire Strikes Back (1980)    2665\n",
            "Star Wars: Episode IV - A New Hope (1977)                2664\n",
            "Star Wars: Episode VI - Return of the Jedi (1983)        2504\n",
            "Saving Private Ryan (1998)                               2340\n",
            "Terminator 2: Judgment Day (1991)                        2304\n",
            "Silence of the Lambs, The (1991)                         2290\n",
            "Raiders of the Lost Ark (1981)                           2261\n",
            "Back to the Future (1985)                                2252\n",
            "Matrix, The (1999)                                       2226\n",
            "Name: count, dtype: int64\n"
          ]
        }
      ],
      "source": [
        "# Contar la cantidad de veces que cada película ha sido vista\n",
        "top_movies = df['movie_name'].value_counts().head(10)\n",
        "\n",
        "# Crear el gráfico de barras\n",
        "plt.figure(figsize=(7,5))\n",
        "top_movies.plot(kind='bar', color='lightblue')\n",
        "\n",
        "# Configurar el gráfico\n",
        "plt.title('Top 10 de las películas más vistas')\n",
        "plt.xlabel('Películas')\n",
        "plt.ylabel('Número de vistas')\n",
        "plt.xticks(rotation=45, ha='right')\n",
        "plt.grid(axis='y')\n",
        "\n",
        "# Mostrar el gráfico\n",
        "plt.show()\n",
        "\n",
        "# Mostrar el DataFrame con el Top 10 de películas\n",
        "print(\"Top 10 de las películas más vistas:\", top_movies)\n"
      ]
    },
    {
      "cell_type": "markdown",
      "metadata": {
        "id": "7CRnoj_rOBdk"
      },
      "source": [
        "### Distribución de la cantidad de películas vistas por usuario\n",
        "\n",
        "El gráfico refleja el comportamiento de visualización de películas que tienen los usuarios registrados en la plataforma, donde como es de esperarse, la mayor parte de ellos vieron entre 1 y 250 películas, mientras una minoría tuvo mayor cantidad de interacción con estás peliculas."
      ]
    },
    {
      "cell_type": "code",
      "execution_count": 8,
      "metadata": {
        "colab": {
          "base_uri": "https://localhost:8080/",
          "height": 543
        },
        "id": "xBl90Lf9Nt59",
        "outputId": "250d8b9f-d29e-4928-d6ab-8f0fcbe7b424"
      },
      "outputs": [
        {
          "output_type": "stream",
          "name": "stderr",
          "text": [
            "/usr/local/lib/python3.10/dist-packages/ipykernel/ipkernel.py:283: DeprecationWarning: `should_run_async` will not call `transform_cell` automatically in the future. Please pass the result to `transformed_cell` argument and any exception that happen during thetransform in `preprocessing_exc_tuple` in IPython 7.17 and above.\n",
            "  and should_run_async(code)\n"
          ]
        },
        {
          "output_type": "display_data",
          "data": {
            "text/plain": [
              "<Figure size 700x500 with 1 Axes>"
            ],
            "image/png": "[encoded data removed]"
          },
          "metadata": {}
        }
      ],
      "source": [
        "user_movie_counts = df.groupby('user_id')['movie_id'].count()\n",
        "\n",
        "plt.figure(figsize=(7,5))\n",
        "sns.histplot(user_movie_counts, bins=30, kde=True)\n",
        "plt.title('Distribución de la cantidad de películas vistas por usuario')\n",
        "plt.xlabel('Cantidad de películas')\n",
        "plt.ylabel('Nùmero de usuarios')\n",
        "plt.show()"
      ]
    },
    {
      "cell_type": "markdown",
      "metadata": {
        "id": "ZbxmG7hpOa09"
      },
      "source": [
        "Se presenta una muestra de cuántas películas se han visto por usuario, y las estadisticas de visualización reflejan que en promedio cada usuario vió 138 películas, y donde la mitad de los 5539 usuarios vieron cada uno 81 películas o menos, y  que máximo un solo usuario ha visto 1968 películas."
      ]
    },
    {
      "cell_type": "code",
      "execution_count": 7,
      "metadata": {
        "colab": {
          "base_uri": "https://localhost:8080/"
        },
        "id": "OS5MWJZVOcaL",
        "outputId": "88f8d774-de0c-4779-c3a7-5d1177763a0e"
      },
      "outputs": [
        {
          "output_type": "stream",
          "name": "stdout",
          "text": [
            "user_id\n",
            "1844     17\n",
            "82      115\n",
            "3564    129\n",
            "5336     46\n",
            "3142     86\n",
            "5928     45\n",
            "2316    140\n",
            "4660     38\n",
            "5847    337\n",
            "3823    616\n",
            "Name: movie_id, dtype: int64\n",
            "\n",
            "Resumen de películas vistas por usuario:\n",
            "count    5539.000000\n",
            "mean      138.749955\n",
            "std       157.006202\n",
            "min         1.000000\n",
            "25%        38.000000\n",
            "50%        81.000000\n",
            "75%       178.000000\n",
            "max      1968.000000\n",
            "Name: movie_id, dtype: float64\n"
          ]
        },
        {
          "output_type": "stream",
          "name": "stderr",
          "text": [
            "/usr/local/lib/python3.10/dist-packages/ipykernel/ipkernel.py:283: DeprecationWarning: `should_run_async` will not call `transform_cell` automatically in the future. Please pass the result to `transformed_cell` argument and any exception that happen during thetransform in `preprocessing_exc_tuple` in IPython 7.17 and above.\n",
            "  and should_run_async(code)\n"
          ]
        }
      ],
      "source": [
        "user_movie_counts = df.groupby('user_id')['movie_id'].count()\n",
        "print(user_movie_counts.sample(10))\n",
        "\n",
        "# resumen de las estadísticas\n",
        "print(\"\\nResumen de películas vistas por usuario:\")\n",
        "print(user_movie_counts.describe())"
      ]
    },
    {
      "cell_type": "markdown",
      "metadata": {
        "id": "zj1wLqtGPFVU"
      },
      "source": [
        "# Se crea la matriz de transacciones usuarios-películas con una muestra de 10 para ayudar a comprender esta relación"
      ]
    },
    {
      "cell_type": "code",
      "execution_count": 9,
      "metadata": {
        "colab": {
          "base_uri": "https://localhost:8080/",
          "height": 565
        },
        "id": "eITEFZOdOcMY",
        "outputId": "77c90517-e911-4664-d3e3-c112ce747e78"
      },
      "outputs": [
        {
          "output_type": "stream",
          "name": "stderr",
          "text": [
            "/usr/local/lib/python3.10/dist-packages/ipykernel/ipkernel.py:283: DeprecationWarning: `should_run_async` will not call `transform_cell` automatically in the future. Please pass the result to `transformed_cell` argument and any exception that happen during thetransform in `preprocessing_exc_tuple` in IPython 7.17 and above.\n",
            "  and should_run_async(code)\n"
          ]
        },
        {
          "output_type": "execute_result",
          "data": {
            "text/plain": [
              "movie_name  $1,000,000 Duck (1971)  'Night Mother (1986)  \\\n",
              "user_id                                                    \n",
              "1096                             0                     0   \n",
              "2551                             0                     0   \n",
              "4491                             0                     0   \n",
              "2668                             0                     0   \n",
              "1963                             0                     0   \n",
              "3043                             0                     0   \n",
              "4411                             0                     0   \n",
              "5556                             0                     0   \n",
              "1316                             0                     0   \n",
              "1511                             0                     0   \n",
              "\n",
              "movie_name  'Til There Was You (1997)  'burbs, The (1989)  \\\n",
              "user_id                                                     \n",
              "1096                                0                   0   \n",
              "2551                                0                   0   \n",
              "4491                                0                   0   \n",
              "2668                                0                   0   \n",
              "1963                                0                   0   \n",
              "3043                                0                   0   \n",
              "4411                                0                   0   \n",
              "5556                                0                   0   \n",
              "1316                                0                   0   \n",
              "1511                                0                   0   \n",
              "\n",
              "movie_name  ...And Justice for All (1979)  1-900 (1994)  \\\n",
              "user_id                                                   \n",
              "1096                                    0             0   \n",
              "2551                                    0             0   \n",
              "4491                                    0             0   \n",
              "2668                                    0             0   \n",
              "1963                                    0             0   \n",
              "3043                                    0             0   \n",
              "4411                                    0             0   \n",
              "5556                                    0             0   \n",
              "1316                                    0             0   \n",
              "1511                                    0             0   \n",
              "\n",
              "movie_name  10 Things I Hate About You (1999)  101 Dalmatians (1961)  \\\n",
              "user_id                                                                \n",
              "1096                                        0                      0   \n",
              "2551                                        0                      0   \n",
              "4491                                        1                      0   \n",
              "2668                                        0                      0   \n",
              "1963                                        0                      0   \n",
              "3043                                        0                      0   \n",
              "4411                                        0                      0   \n",
              "5556                                        0                      1   \n",
              "1316                                        0                      0   \n",
              "1511                                        0                      0   \n",
              "\n",
              "movie_name  101 Dalmatians (1996)  12 Angry Men (1957)  ...  \\\n",
              "user_id                                                 ...   \n",
              "1096                            0                    0  ...   \n",
              "2551                            0                    0  ...   \n",
              "4491                            0                    0  ...   \n",
              "2668                            0                    1  ...   \n",
              "1963                            0                    0  ...   \n",
              "3043                            0                    0  ...   \n",
              "4411                            0                    0  ...   \n",
              "5556                            0                    0  ...   \n",
              "1316                            0                    0  ...   \n",
              "1511                            0                    0  ...   \n",
              "\n",
              "movie_name  Young Poisoner's Handbook, The (1995)  \\\n",
              "user_id                                             \n",
              "1096                                            0   \n",
              "2551                                            0   \n",
              "4491                                            0   \n",
              "2668                                            0   \n",
              "1963                                            0   \n",
              "3043                                            0   \n",
              "4411                                            0   \n",
              "5556                                            0   \n",
              "1316                                            0   \n",
              "1511                                            0   \n",
              "\n",
              "movie_name  Young Sherlock Holmes (1985)  Young and Innocent (1937)  \\\n",
              "user_id                                                               \n",
              "1096                                   0                          0   \n",
              "2551                                   0                          0   \n",
              "4491                                   0                          0   \n",
              "2668                                   0                          0   \n",
              "1963                                   0                          0   \n",
              "3043                                   0                          0   \n",
              "4411                                   1                          0   \n",
              "5556                                   0                          0   \n",
              "1316                                   0                          0   \n",
              "1511                                   0                          0   \n",
              "\n",
              "movie_name  Your Friends and Neighbors (1998)  Zachariah (1971)  \\\n",
              "user_id                                                           \n",
              "1096                                        0                 0   \n",
              "2551                                        0                 0   \n",
              "4491                                        0                 0   \n",
              "2668                                        0                 0   \n",
              "1963                                        0                 0   \n",
              "3043                                        0                 0   \n",
              "4411                                        0                 0   \n",
              "5556                                        0                 0   \n",
              "1316                                        0                 0   \n",
              "1511                                        0                 0   \n",
              "\n",
              "movie_name  Zed & Two Noughts, A (1985)  Zero Effect (1998)  \\\n",
              "user_id                                                       \n",
              "1096                                  0                   0   \n",
              "2551                                  0                   0   \n",
              "4491                                  0                   0   \n",
              "2668                                  0                   0   \n",
              "1963                                  0                   0   \n",
              "3043                                  0                   0   \n",
              "4411                                  0                   0   \n",
              "5556                                  0                   0   \n",
              "1316                                  0                   0   \n",
              "1511                                  0                   0   \n",
              "\n",
              "movie_name  Zero Kelvin (Kj�rlighetens kj�tere) (1995)  \\\n",
              "user_id                                                  \n",
              "1096                                                 0   \n",
              "2551                                                 0   \n",
              "4491                                                 0   \n",
              "2668                                                 0   \n",
              "1963                                                 0   \n",
              "3043                                                 0   \n",
              "4411                                                 0   \n",
              "5556                                                 0   \n",
              "1316                                                 0   \n",
              "1511                                                 0   \n",
              "\n",
              "movie_name  Zeus and Roxanne (1997)  eXistenZ (1999)  \n",
              "user_id                                               \n",
              "1096                              0                0  \n",
              "2551                              0                0  \n",
              "4491                              0                0  \n",
              "2668                              0                0  \n",
              "1963                              0                0  \n",
              "3043                              0                0  \n",
              "4411                              0                0  \n",
              "5556                              0                0  \n",
              "1316                              0                0  \n",
              "1511                              0                0  \n",
              "\n",
              "[10 rows x 3621 columns]"
            ],
            "text/html": [
              "\n",
              "  <div id=\"df-df3be923-c23d-4ca5-a1e5-a8e096deabb2\" class=\"colab-df-container\">\n",
              "    <div>\n",
              "<style scoped>\n",
              "    .dataframe tbody tr th:only-of-type {\n",
              "        vertical-align: middle;\n",
              "    }\n",
              "\n",
              "    .dataframe tbody tr th {\n",
              "        vertical-align: top;\n",
              "    }\n",
              "\n",
              "    .dataframe thead th {\n",
              "        text-align: right;\n",
              "    }\n",
              "</style>\n",
              "<table border=\"1\" class=\"dataframe\">\n",
              "  <thead>\n",
              "    <tr style=\"text-align: right;\">\n",
              "      <th>movie_name</th>\n",
              "      <th>$1,000,000 Duck (1971)</th>\n",
              "      <th>'Night Mother (1986)</th>\n",
              "      <th>'Til There Was You (1997)</th>\n",
              "      <th>'burbs, The (1989)</th>\n",
              "      <th>...And Justice for All (1979)</th>\n",
              "      <th>1-900 (1994)</th>\n",
              "      <th>10 Things I Hate About You (1999)</th>\n",
              "      <th>101 Dalmatians (1961)</th>\n",
              "      <th>101 Dalmatians (1996)</th>\n",
              "      <th>12 Angry Men (1957)</th>\n",
              "      <th>...</th>\n",
              "      <th>Young Poisoner's Handbook, The (1995)</th>\n",
              "      <th>Young Sherlock Holmes (1985)</th>\n",
              "      <th>Young and Innocent (1937)</th>\n",
              "      <th>Your Friends and Neighbors (1998)</th>\n",
              "      <th>Zachariah (1971)</th>\n",
              "      <th>Zed &amp; Two Noughts, A (1985)</th>\n",
              "      <th>Zero Effect (1998)</th>\n",
              "      <th>Zero Kelvin (Kj�rlighetens kj�tere) (1995)</th>\n",
              "      <th>Zeus and Roxanne (1997)</th>\n",
              "      <th>eXistenZ (1999)</th>\n",
              "    </tr>\n",
              "    <tr>\n",
              "      <th>user_id</th>\n",
              "      <th></th>\n",
              "      <th></th>\n",
              "      <th></th>\n",
              "      <th></th>\n",
              "      <th></th>\n",
              "      <th></th>\n",
              "      <th></th>\n",
              "      <th></th>\n",
              "      <th></th>\n",
              "      <th></th>\n",
              "      <th></th>\n",
              "      <th></th>\n",
              "      <th></th>\n",
              "      <th></th>\n",
              "      <th></th>\n",
              "      <th></th>\n",
              "      <th></th>\n",
              "      <th></th>\n",
              "      <th></th>\n",
              "      <th></th>\n",
              "      <th></th>\n",
              "    </tr>\n",
              "  </thead>\n",
              "  <tbody>\n",
              "    <tr>\n",
              "      <th>1096</th>\n",
              "      <td>0</td>\n",
              "      <td>0</td>\n",
              "      <td>0</td>\n",
              "      <td>0</td>\n",
              "      <td>0</td>\n",
              "      <td>0</td>\n",
              "      <td>0</td>\n",
              "      <td>0</td>\n",
              "      <td>0</td>\n",
              "      <td>0</td>\n",
              "      <td>...</td>\n",
              "      <td>0</td>\n",
              "      <td>0</td>\n",
              "      <td>0</td>\n",
              "      <td>0</td>\n",
              "      <td>0</td>\n",
              "      <td>0</td>\n",
              "      <td>0</td>\n",
              "      <td>0</td>\n",
              "      <td>0</td>\n",
              "      <td>0</td>\n",
              "    </tr>\n",
              "    <tr>\n",
              "      <th>2551</th>\n",
              "      <td>0</td>\n",
              "      <td>0</td>\n",
              "      <td>0</td>\n",
              "      <td>0</td>\n",
              "      <td>0</td>\n",
              "      <td>0</td>\n",
              "      <td>0</td>\n",
              "      <td>0</td>\n",
              "      <td>0</td>\n",
              "      <td>0</td>\n",
              "      <td>...</td>\n",
              "      <td>0</td>\n",
              "      <td>0</td>\n",
              "      <td>0</td>\n",
              "      <td>0</td>\n",
              "      <td>0</td>\n",
              "      <td>0</td>\n",
              "      <td>0</td>\n",
              "      <td>0</td>\n",
              "      <td>0</td>\n",
              "      <td>0</td>\n",
              "    </tr>\n",
              "    <tr>\n",
              "      <th>4491</th>\n",
              "      <td>0</td>\n",
              "      <td>0</td>\n",
              "      <td>0</td>\n",
              "      <td>0</td>\n",
              "      <td>0</td>\n",
              "      <td>0</td>\n",
              "      <td>1</td>\n",
              "      <td>0</td>\n",
              "      <td>0</td>\n",
              "      <td>0</td>\n",
              "      <td>...</td>\n",
              "      <td>0</td>\n",
              "      <td>0</td>\n",
              "      <td>0</td>\n",
              "      <td>0</td>\n",
              "      <td>0</td>\n",
              "      <td>0</td>\n",
              "      <td>0</td>\n",
              "      <td>0</td>\n",
              "      <td>0</td>\n",
              "      <td>0</td>\n",
              "    </tr>\n",
              "    <tr>\n",
              "      <th>2668</th>\n",
              "      <td>0</td>\n",
              "      <td>0</td>\n",
              "      <td>0</td>\n",
              "      <td>0</td>\n",
              "      <td>0</td>\n",
              "      <td>0</td>\n",
              "      <td>0</td>\n",
              "      <td>0</td>\n",
              "      <td>0</td>\n",
              "      <td>1</td>\n",
              "      <td>...</td>\n",
              "      <td>0</td>\n",
              "      <td>0</td>\n",
              "      <td>0</td>\n",
              "      <td>0</td>\n",
              "      <td>0</td>\n",
              "      <td>0</td>\n",
              "      <td>0</td>\n",
              "      <td>0</td>\n",
              "      <td>0</td>\n",
              "      <td>0</td>\n",
              "    </tr>\n",
              "    <tr>\n",
              "      <th>1963</th>\n",
              "      <td>0</td>\n",
              "      <td>0</td>\n",
              "      <td>0</td>\n",
              "      <td>0</td>\n",
              "      <td>0</td>\n",
              "      <td>0</td>\n",
              "      <td>0</td>\n",
              "      <td>0</td>\n",
              "      <td>0</td>\n",
              "      <td>0</td>\n",
              "      <td>...</td>\n",
              "      <td>0</td>\n",
              "      <td>0</td>\n",
              "      <td>0</td>\n",
              "      <td>0</td>\n",
              "      <td>0</td>\n",
              "      <td>0</td>\n",
              "      <td>0</td>\n",
              "      <td>0</td>\n",
              "      <td>0</td>\n",
              "      <td>0</td>\n",
              "    </tr>\n",
              "    <tr>\n",
              "      <th>3043</th>\n",
              "      <td>0</td>\n",
              "      <td>0</td>\n",
              "      <td>0</td>\n",
              "      <td>0</td>\n",
              "      <td>0</td>\n",
              "      <td>0</td>\n",
              "      <td>0</td>\n",
              "      <td>0</td>\n",
              "      <td>0</td>\n",
              "      <td>0</td>\n",
              "      <td>...</td>\n",
              "      <td>0</td>\n",
              "      <td>0</td>\n",
              "      <td>0</td>\n",
              "      <td>0</td>\n",
              "      <td>0</td>\n",
              "      <td>0</td>\n",
              "      <td>0</td>\n",
              "      <td>0</td>\n",
              "      <td>0</td>\n",
              "      <td>0</td>\n",
              "    </tr>\n",
              "    <tr>\n",
              "      <th>4411</th>\n",
              "      <td>0</td>\n",
              "      <td>0</td>\n",
              "      <td>0</td>\n",
              "      <td>0</td>\n",
              "      <td>0</td>\n",
              "      <td>0</td>\n",
              "      <td>0</td>\n",
              "      <td>0</td>\n",
              "      <td>0</td>\n",
              "      <td>0</td>\n",
              "      <td>...</td>\n",
              "      <td>0</td>\n",
              "      <td>1</td>\n",
              "      <td>0</td>\n",
              "      <td>0</td>\n",
              "      <td>0</td>\n",
              "      <td>0</td>\n",
              "      <td>0</td>\n",
              "      <td>0</td>\n",
              "      <td>0</td>\n",
              "      <td>0</td>\n",
              "    </tr>\n",
              "    <tr>\n",
              "      <th>5556</th>\n",
              "      <td>0</td>\n",
              "      <td>0</td>\n",
              "      <td>0</td>\n",
              "      <td>0</td>\n",
              "      <td>0</td>\n",
              "      <td>0</td>\n",
              "      <td>0</td>\n",
              "      <td>1</td>\n",
              "      <td>0</td>\n",
              "      <td>0</td>\n",
              "      <td>...</td>\n",
              "      <td>0</td>\n",
              "      <td>0</td>\n",
              "      <td>0</td>\n",
              "      <td>0</td>\n",
              "      <td>0</td>\n",
              "      <td>0</td>\n",
              "      <td>0</td>\n",
              "      <td>0</td>\n",
              "      <td>0</td>\n",
              "      <td>0</td>\n",
              "    </tr>\n",
              "    <tr>\n",
              "      <th>1316</th>\n",
              "      <td>0</td>\n",
              "      <td>0</td>\n",
              "      <td>0</td>\n",
              "      <td>0</td>\n",
              "      <td>0</td>\n",
              "      <td>0</td>\n",
              "      <td>0</td>\n",
              "      <td>0</td>\n",
              "      <td>0</td>\n",
              "      <td>0</td>\n",
              "      <td>...</td>\n",
              "      <td>0</td>\n",
              "      <td>0</td>\n",
              "      <td>0</td>\n",
              "      <td>0</td>\n",
              "      <td>0</td>\n",
              "      <td>0</td>\n",
              "      <td>0</td>\n",
              "      <td>0</td>\n",
              "      <td>0</td>\n",
              "      <td>0</td>\n",
              "    </tr>\n",
              "    <tr>\n",
              "      <th>1511</th>\n",
              "      <td>0</td>\n",
              "      <td>0</td>\n",
              "      <td>0</td>\n",
              "      <td>0</td>\n",
              "      <td>0</td>\n",
              "      <td>0</td>\n",
              "      <td>0</td>\n",
              "      <td>0</td>\n",
              "      <td>0</td>\n",
              "      <td>0</td>\n",
              "      <td>...</td>\n",
              "      <td>0</td>\n",
              "      <td>0</td>\n",
              "      <td>0</td>\n",
              "      <td>0</td>\n",
              "      <td>0</td>\n",
              "      <td>0</td>\n",
              "      <td>0</td>\n",
              "      <td>0</td>\n",
              "      <td>0</td>\n",
              "      <td>0</td>\n",
              "    </tr>\n",
              "  </tbody>\n",
              "</table>\n",
              "<p>10 rows × 3621 columns</p>\n",
              "</div>\n",
              "    <div class=\"colab-df-buttons\">\n",
              "\n",
              "  <div class=\"colab-df-container\">\n",
              "    <button class=\"colab-df-convert\" onclick=\"convertToInteractive('df-df3be923-c23d-4ca5-a1e5-a8e096deabb2')\"\n",
              "            title=\"Convert this dataframe to an interactive table.\"\n",
              "            style=\"display:none;\">\n",
              "\n",
              "  <svg xmlns=\"http://www.w3.org/2000/svg\" height=\"24px\" viewBox=\"0 -960 960 960\">\n",
              "    <path d=\"M120-120v-720h720v720H120Zm60-500h600v-160H180v160Zm220 220h160v-160H400v160Zm0 220h160v-160H400v160ZM180-400h160v-160H180v160Zm440 0h160v-160H620v160ZM180-180h160v-160H180v160Zm440 0h160v-160H620v160Z\"/>\n",
              "  </svg>\n",
              "    </button>\n",
              "\n",
              "  <style>\n",
              "    .colab-df-container {\n",
              "      display:flex;\n",
              "      gap: 12px;\n",
              "    }\n",
              "\n",
              "    .colab-df-convert {\n",
              "      background-color: #E8F0FE;\n",
              "      border: none;\n",
              "      border-radius: 50%;\n",
              "      cursor: pointer;\n",
              "      display: none;\n",
              "      fill: #1967D2;\n",
              "      height: 32px;\n",
              "      padding: 0 0 0 0;\n",
              "      width: 32px;\n",
              "    }\n",
              "\n",
              "    .colab-df-convert:hover {\n",
              "      background-color: #E2EBFA;\n",
              "      box-shadow: 0px 1px 2px rgba(60, 64, 67, 0.3), 0px 1px 3px 1px rgba(60, 64, 67, 0.15);\n",
              "      fill: #174EA6;\n",
              "    }\n",
              "\n",
              "    .colab-df-buttons div {\n",
              "      margin-bottom: 4px;\n",
              "    }\n",
              "\n",
              "    [theme=dark] .colab-df-convert {\n",
              "      background-color: #3B4455;\n",
              "      fill: #D2E3FC;\n",
              "    }\n",
              "\n",
              "    [theme=dark] .colab-df-convert:hover {\n",
              "      background-color: #434B5C;\n",
              "      box-shadow: 0px 1px 3px 1px rgba(0, 0, 0, 0.15);\n",
              "      filter: drop-shadow(0px 1px 2px rgba(0, 0, 0, 0.3));\n",
              "      fill: #FFFFFF;\n",
              "    }\n",
              "  </style>\n",
              "\n",
              "    <script>\n",
              "      const buttonEl =\n",
              "        document.querySelector('#df-df3be923-c23d-4ca5-a1e5-a8e096deabb2 button.colab-df-convert');\n",
              "      buttonEl.style.display =\n",
              "        google.colab.kernel.accessAllowed ? 'block' : 'none';\n",
              "\n",
              "      async function convertToInteractive(key) {\n",
              "        const element = document.querySelector('#df-df3be923-c23d-4ca5-a1e5-a8e096deabb2');\n",
              "        const dataTable =\n",
              "          await google.colab.kernel.invokeFunction('convertToInteractive',\n",
              "                                                    [key], {});\n",
              "        if (!dataTable) return;\n",
              "\n",
              "        const docLinkHtml = 'Like what you see? Visit the ' +\n",
              "          '<a target=\"_blank\" href=https://colab.research.google.com/notebooks/data_table.ipynb>data table notebook</a>'\n",
              "          + ' to learn more about interactive tables.';\n",
              "        element.innerHTML = '';\n",
              "        dataTable['output_type'] = 'display_data';\n",
              "        await google.colab.output.renderOutput(dataTable, element);\n",
              "        const docLink = document.createElement('div');\n",
              "        docLink.innerHTML = docLinkHtml;\n",
              "        element.appendChild(docLink);\n",
              "      }\n",
              "    </script>\n",
              "  </div>\n",
              "\n",
              "\n",
              "<div id=\"df-5dd82a70-5aa8-4c38-a2a5-20a7f5495a95\">\n",
              "  <button class=\"colab-df-quickchart\" onclick=\"quickchart('df-5dd82a70-5aa8-4c38-a2a5-20a7f5495a95')\"\n",
              "            title=\"Suggest charts\"\n",
              "            style=\"display:none;\">\n",
              "\n",
              "<svg xmlns=\"http://www.w3.org/2000/svg\" height=\"24px\"viewBox=\"0 0 24 24\"\n",
              "     width=\"24px\">\n",
              "    <g>\n",
              "        <path d=\"M19 3H5c-1.1 0-2 .9-2 2v14c0 1.1.9 2 2 2h14c1.1 0 2-.9 2-2V5c0-1.1-.9-2-2-2zM9 17H7v-7h2v7zm4 0h-2V7h2v10zm4 0h-2v-4h2v4z\"/>\n",
              "    </g>\n",
              "</svg>\n",
              "  </button>\n",
              "\n",
              "<style>\n",
              "  .colab-df-quickchart {\n",
              "      --bg-color: #E8F0FE;\n",
              "      --fill-color: #1967D2;\n",
              "      --hover-bg-color: #E2EBFA;\n",
              "      --hover-fill-color: #174EA6;\n",
              "      --disabled-fill-color: #AAA;\n",
              "      --disabled-bg-color: #DDD;\n",
              "  }\n",
              "\n",
              "  [theme=dark] .colab-df-quickchart {\n",
              "      --bg-color: #3B4455;\n",
              "      --fill-color: #D2E3FC;\n",
              "      --hover-bg-color: #434B5C;\n",
              "      --hover-fill-color: #FFFFFF;\n",
              "      --disabled-bg-color: #3B4455;\n",
              "      --disabled-fill-color: #666;\n",
              "  }\n",
              "\n",
              "  .colab-df-quickchart {\n",
              "    background-color: var(--bg-color);\n",
              "    border: none;\n",
              "    border-radius: 50%;\n",
              "    cursor: pointer;\n",
              "    display: none;\n",
              "    fill: var(--fill-color);\n",
              "    height: 32px;\n",
              "    padding: 0;\n",
              "    width: 32px;\n",
              "  }\n",
              "\n",
              "  .colab-df-quickchart:hover {\n",
              "    background-color: var(--hover-bg-color);\n",
              "    box-shadow: 0 1px 2px rgba(60, 64, 67, 0.3), 0 1px 3px 1px rgba(60, 64, 67, 0.15);\n",
              "    fill: var(--button-hover-fill-color);\n",
              "  }\n",
              "\n",
              "  .colab-df-quickchart-complete:disabled,\n",
              "  .colab-df-quickchart-complete:disabled:hover {\n",
              "    background-color: var(--disabled-bg-color);\n",
              "    fill: var(--disabled-fill-color);\n",
              "    box-shadow: none;\n",
              "  }\n",
              "\n",
              "  .colab-df-spinner {\n",
              "    border: 2px solid var(--fill-color);\n",
              "    border-color: transparent;\n",
              "    border-bottom-color: var(--fill-color);\n",
              "    animation:\n",
              "      spin 1s steps(1) infinite;\n",
              "  }\n",
              "\n",
              "  @keyframes spin {\n",
              "    0% {\n",
              "      border-color: transparent;\n",
              "      border-bottom-color: var(--fill-color);\n",
              "      border-left-color: var(--fill-color);\n",
              "    }\n",
              "    20% {\n",
              "      border-color: transparent;\n",
              "      border-left-color: var(--fill-color);\n",
              "      border-top-color: var(--fill-color);\n",
              "    }\n",
              "    30% {\n",
              "      border-color: transparent;\n",
              "      border-left-color: var(--fill-color);\n",
              "      border-top-color: var(--fill-color);\n",
              "      border-right-color: var(--fill-color);\n",
              "    }\n",
              "    40% {\n",
              "      border-color: transparent;\n",
              "      border-right-color: var(--fill-color);\n",
              "      border-top-color: var(--fill-color);\n",
              "    }\n",
              "    60% {\n",
              "      border-color: transparent;\n",
              "      border-right-color: var(--fill-color);\n",
              "    }\n",
              "    80% {\n",
              "      border-color: transparent;\n",
              "      border-right-color: var(--fill-color);\n",
              "      border-bottom-color: var(--fill-color);\n",
              "    }\n",
              "    90% {\n",
              "      border-color: transparent;\n",
              "      border-bottom-color: var(--fill-color);\n",
              "    }\n",
              "  }\n",
              "</style>\n",
              "\n",
              "  <script>\n",
              "    async function quickchart(key) {\n",
              "      const quickchartButtonEl =\n",
              "        document.querySelector('#' + key + ' button');\n",
              "      quickchartButtonEl.disabled = true;  // To prevent multiple clicks.\n",
              "      quickchartButtonEl.classList.add('colab-df-spinner');\n",
              "      try {\n",
              "        const charts = await google.colab.kernel.invokeFunction(\n",
              "            'suggestCharts', [key], {});\n",
              "      } catch (error) {\n",
              "        console.error('Error during call to suggestCharts:', error);\n",
              "      }\n",
              "      quickchartButtonEl.classList.remove('colab-df-spinner');\n",
              "      quickchartButtonEl.classList.add('colab-df-quickchart-complete');\n",
              "    }\n",
              "    (() => {\n",
              "      let quickchartButtonEl =\n",
              "        document.querySelector('#df-5dd82a70-5aa8-4c38-a2a5-20a7f5495a95 button');\n",
              "      quickchartButtonEl.style.display =\n",
              "        google.colab.kernel.accessAllowed ? 'block' : 'none';\n",
              "    })();\n",
              "  </script>\n",
              "</div>\n",
              "\n",
              "    </div>\n",
              "  </div>\n"
            ],
            "application/vnd.google.colaboratory.intrinsic+json": {
              "type": "dataframe"
            }
          },
          "metadata": {},
          "execution_count": 9
        }
      ],
      "source": [
        "user_movie_matrix = df.pivot_table(index='user_id', columns='movie_name', aggfunc='size', fill_value=0)\n",
        "\n",
        "# Visualizar la matriz de interacciones\n",
        "user_movie_matrix.sample(10)"
      ]
    },
    {
      "cell_type": "markdown",
      "metadata": {
        "id": "dzFwSp_9PjwA"
      },
      "source": [
        "1.B: ¿Cuál fue el soporte y la confianza mínima que estableciste para la generación de reglas? Justifica tu elección.\n",
        "\n",
        "\n",
        "Recordemos que:\n",
        "Dado que las películas deben haber recibido una calificación positiva para ser incluidas, el conjunto de transacciones ya está filtrado para mantener solo las películas de interés, es decir, con calificaciones ≥ 3 de 5 estrellas.\n",
        "\n",
        "Soporte: Proporción de transacciones en las que aparece un conjunto de ítems (películas con calificaciones ≥ 3 de 5 estrellas). Es decir, cuán frecuente es una combinación de este ítem en el dataset o en las transacciones que realiza un usuario.\n",
        "\n",
        "Soporte mínimo: Se establece un soporte mínimo de 0.15. Esto significa que un conjunto de películas debe estar en la lista de calificaciones positivas del 15% de los usuarios para ser relevante, dado que en el contexto de los datos existe muy alta interacción entre usuarios y películas, si el soporte es demasiado bajo, las combinaciones contendrán películas que casi nadie haya visto, lo que hace que la regla sea poco útil para la mayoría de los usuarios y lo que gasta gran espacio en la memoria RAM debido a la cantidad de interacciones que se deben gestionar; y un soporte demasiado alto eliminaría combinaciones potencialmente interesantes, pero que no han sido vistas por un número masivo de usuarios; así, según el contexto, se considera un soporte medianamente alto.\n",
        "\n",
        "Confianza: mide cuán probable es que, dado que un usuario ha visto una o un conjunto de películas, también hayan visto otra u otras, de este modo, se busca que la confianza sea lo suficientemente alta para garantizar que las recomendaciones sean fiables, pero no tan alta que limite el conjunto de reglas.\n",
        "Confianza mínima: Con un 70%  se asegura que si un usuario ha visto y calificó una película, es altamente probable que vea otra u otras en la misma regla, manteniendo la importancia de la recomendación.\n",
        "Una confianza más baja significaría reglas débiles, mientras que una confianza más alta (> 80%) reduciría el número de reglas y limitaría la capacidad del sistema para encontrar combinaciones menos obvias."
      ]
    },
    {
      "cell_type": "code",
      "source": [
        "from mlxtend.frequent_patterns import apriori, association_rules\n",
        "\n",
        "basket = df.groupby(['user_id', 'movie_id'])['movie_name'].count().unstack().reset_index().fillna(0)\n",
        "basket = basket.set_index('user_id')\n",
        "\n",
        "# Convertir los valores a 1 y 0\n",
        "basket[basket > 0] = 1\n",
        "\n",
        "min_support = 0.15  # Soporte mínimo del 15%\n",
        "frequent_itemsets = apriori(basket, min_support=min_support, use_colnames=True)\n",
        "\n",
        "min_confidence = 0.7\n",
        "rules = association_rules(frequent_itemsets, metric=\"confidence\", min_threshold=min_confidence)\n",
        "\n",
        "# Mostrar las reglas encontradas\n",
        "print(\"\\nReglas de Asociación Generadas:\")\n",
        "print(rules[['antecedents', 'consequents', 'support', 'confidence', 'lift']])\n"
      ],
      "metadata": {
        "colab": {
          "base_uri": "https://localhost:8080/"
        },
        "id": "bkfWM7vhkIKO",
        "outputId": "8cee2bfb-c5b6-42e0-ab23-56e8269b64f5"
      },
      "execution_count": 10,
      "outputs": [
        {
          "output_type": "stream",
          "name": "stderr",
          "text": [
            "/usr/local/lib/python3.10/dist-packages/ipykernel/ipkernel.py:283: DeprecationWarning: `should_run_async` will not call `transform_cell` automatically in the future. Please pass the result to `transformed_cell` argument and any exception that happen during thetransform in `preprocessing_exc_tuple` in IPython 7.17 and above.\n",
            "  and should_run_async(code)\n",
            "/usr/local/lib/python3.10/dist-packages/mlxtend/frequent_patterns/fpcommon.py:109: DeprecationWarning: DataFrames with non-bool types result in worse computationalperformance and their support might be discontinued in the future.Please use a DataFrame with bool type\n",
            "  warnings.warn(\n"
          ]
        },
        {
          "output_type": "stream",
          "name": "stdout",
          "text": [
            "\n",
            "Reglas de Asociación Generadas:\n",
            "             antecedents        consequents   support  confidence      lift\n",
            "0                  (588)                (1)  0.153096    0.752440  2.267555\n",
            "1                 (3114)                (1)  0.176747    0.701289  2.113407\n",
            "2                   (32)              (260)  0.172775    0.757120  1.574208\n",
            "3                   (32)              (589)  0.169345    0.742089  1.784040\n",
            "4                   (32)             (1196)  0.174219    0.763449  1.586771\n",
            "...                  ...                ...       ...         ...       ...\n",
            "7565  (1240, 2571, 1196)   (1210, 260, 589)  0.163929    0.740620  3.131522\n",
            "7566   (1240, 2571, 589)  (1210, 1196, 260)  0.163929    0.756037  2.498620\n",
            "7567   (1210, 2571, 589)  (1240, 1196, 260)  0.163929    0.745484  2.960027\n",
            "7568  (1240, 1210, 2571)   (1196, 260, 589)  0.163929    0.811439  3.114733\n",
            "7569   (1240, 1210, 589)  (1196, 2571, 260)  0.163929    0.755408  2.863931\n",
            "\n",
            "[7570 rows x 5 columns]\n"
          ]
        }
      ]
    },
    {
      "cell_type": "markdown",
      "source": [
        " Con un soporte de 0.15, los resultados anteriores dejan ver que el 15% de los usuarios vieron la película con ID 588 junto con la película con ID 1.\n",
        "\n",
        " Así mismo, confidence indica qué tan probable es que si un usuario ve los ítems en el antecedente, también vea los ítems en el consecuente. De modo que en la primera linea o regla, la confianza de 0.752440 significa que el 75.24% de los usuarios que vieron la película con ID 588 también vieron la película con ID 1, con el mismo criterio se analizan implicitamente las demás reglas.\n",
        "\n",
        " Por otra parte, lift mide el aumento en la probabilidad de que los ítems en el consecuente sean vistos cuando los ítems en el antecedente han sido vistos, en comparación con la probabilidad de ver los ítems en el consecuente sin ninguna condición. Un lift mayor a 2 indica una fuerte relación entre los ítems. En la primera regla, 2.267555 significa que los usuarios que vieron la película con ID 588 tienen 2.27 veces más probabilidades de ver la película con ID 1 en comparación con un usuario promedio que no vió la peli anterior.\n",
        "\n",
        "\n",
        " En la aplicación del algoritmo apriori, se obtuvieron 7570 reglas de asociación en total, donde las más relevantes son aquellas que tienen una confianza alta (por encima del 70%) y un lift elevado (mayor a 2). Particularmente, la regla 7568 es muy fuerte, ya que combina una confianza del 81.14% con un lift de 3.11, lo que indica que los usuarios que ven las películas listadas en el antecedente tienen una probabilidad significativamente mayor de ver las películas del consecuente (3 veces mas probable) en comparación con el promedio de usuarios."
      ],
      "metadata": {
        "id": "L753G5wVmqwH"
      }
    },
    {
      "cell_type": "code",
      "source": [
        "from mlxtend.frequent_patterns import fpgrowth\n",
        "\n",
        "# Aplicar el algoritmo FP-Growth\n",
        "frequent_itemsets_fp = fpgrowth(basket, min_support=min_support, use_colnames=True)\n",
        "\n",
        "# Generar las reglas de asociación\n",
        "rules_fp = association_rules(frequent_itemsets_fp, metric=\"confidence\", min_threshold=min_confidence)\n",
        "\n",
        "# Mostrar las reglas encontradas\n",
        "print(\"\\nReglas de Asociación Generadas con FP-Growth:\")\n",
        "print(rules_fp[['antecedents', 'consequents', 'support', 'confidence', 'lift']])\n"
      ],
      "metadata": {
        "colab": {
          "base_uri": "https://localhost:8080/"
        },
        "id": "lIS2DJFDkIHk",
        "outputId": "c4b52b89-e895-4894-ff76-83b292b86851"
      },
      "execution_count": 11,
      "outputs": [
        {
          "output_type": "stream",
          "name": "stderr",
          "text": [
            "/usr/local/lib/python3.10/dist-packages/ipykernel/ipkernel.py:283: DeprecationWarning: `should_run_async` will not call `transform_cell` automatically in the future. Please pass the result to `transformed_cell` argument and any exception that happen during thetransform in `preprocessing_exc_tuple` in IPython 7.17 and above.\n",
            "  and should_run_async(code)\n",
            "/usr/local/lib/python3.10/dist-packages/mlxtend/frequent_patterns/fpcommon.py:109: DeprecationWarning: DataFrames with non-bool types result in worse computationalperformance and their support might be discontinued in the future.Please use a DataFrame with bool type\n",
            "  warnings.warn(\n"
          ]
        },
        {
          "output_type": "stream",
          "name": "stdout",
          "text": [
            "\n",
            "Reglas de Asociación Generadas con FP-Growth:\n",
            "       antecedents consequents   support  confidence      lift\n",
            "0           (1196)       (260)  0.378047    0.785741  1.633716\n",
            "1            (260)      (1196)  0.378047    0.786036  1.633716\n",
            "2      (2858, 260)      (1196)  0.222062    0.817276  1.698646\n",
            "3     (2858, 1196)       (260)  0.222062    0.806557  1.676997\n",
            "4     (1196, 2028)       (260)  0.230547    0.836828  1.739937\n",
            "...            ...         ...       ...         ...       ...\n",
            "7565        (1242)      (1196)  0.155082    0.854726  1.776484\n",
            "7566        (1222)      (1196)  0.170428    0.846637  1.759670\n",
            "7567        (1222)      (1198)  0.154902    0.769507  1.885138\n",
            "7568        (1222)       (260)  0.155624    0.773094  1.607421\n",
            "7569        (1219)       (260)  0.152013    0.758559  1.577198\n",
            "\n",
            "[7570 rows x 5 columns]\n"
          ]
        }
      ]
    },
    {
      "cell_type": "markdown",
      "source": [
        "Este algoritmo es similar a Apriori, pero es más eficiente para conjuntos de datos grandes. Los resultados se interpretan de la misma manera que los anteriores."
      ],
      "metadata": {
        "id": "o7-Jvfm_v4UM"
      }
    },
    {
      "cell_type": "markdown",
      "metadata": {
        "id": "yUKhFvojLf1w"
      },
      "source": [
        "#### 2. Sistema de Recomendación Basado en Reglas de Asociación:\n",
        "- Implementa un modelo de recomendación basado en popularidad ¿cómo defines\n",
        "“popularidad” en este caso?\n",
        "- ¿Cómo implementaste el sistema de recomendación basado en las reglas de\n",
        "asociación?\n",
        "- ¿Cómo evalúas la efectividad de las recomendaciones generadas? ¿Qué métricas\n",
        "utilizaste?"
      ]
    },
    {
      "cell_type": "markdown",
      "source": [
        "Popularidad: Las películas más populares son aquellas que han sido vistas por más usuarios."
      ],
      "metadata": {
        "id": "aY1f8YlIzMap"
      }
    },
    {
      "cell_type": "code",
      "execution_count": 15,
      "metadata": {
        "id": "iWW2wfZyLf1x",
        "colab": {
          "base_uri": "https://localhost:8080/"
        },
        "outputId": "ce554470-8448-46bd-f864-3c518745409a"
      },
      "outputs": [
        {
          "output_type": "stream",
          "name": "stdout",
          "text": [
            "Top 10 películas más populares:\n",
            "                                             movie_name  num_views\n",
            "127                              American Beauty (1999)       2934\n",
            "3092  Star Wars: Episode V - The Empire Strikes Back...       2665\n",
            "3091          Star Wars: Episode IV - A New Hope (1977)       2664\n",
            "3093  Star Wars: Episode VI - Return of the Jedi (1983)       2504\n",
            "2842                         Saving Private Ryan (1998)       2340\n",
            "3226                  Terminator 2: Judgment Day (1991)       2304\n",
            "2936                   Silence of the Lambs, The (1991)       2290\n",
            "2661                     Raiders of the Lost Ark (1981)       2261\n",
            "256                           Back to the Future (1985)       2252\n",
            "2073                                 Matrix, The (1999)       2226\n",
            "Top 5 películas recomendadas por popularidad:\n",
            "                                             movie_name  num_views\n",
            "127                              American Beauty (1999)       2934\n",
            "3092  Star Wars: Episode V - The Empire Strikes Back...       2665\n",
            "3091          Star Wars: Episode IV - A New Hope (1977)       2664\n",
            "3093  Star Wars: Episode VI - Return of the Jedi (1983)       2504\n",
            "2842                         Saving Private Ryan (1998)       2340\n"
          ]
        },
        {
          "output_type": "stream",
          "name": "stderr",
          "text": [
            "/usr/local/lib/python3.10/dist-packages/ipykernel/ipkernel.py:283: DeprecationWarning: `should_run_async` will not call `transform_cell` automatically in the future. Please pass the result to `transformed_cell` argument and any exception that happen during thetransform in `preprocessing_exc_tuple` in IPython 7.17 and above.\n",
            "  and should_run_async(code)\n"
          ]
        }
      ],
      "source": [
        "# 1. Contar cuántas veces ha sido vista cada película (frecuencia de interacciones)\n",
        "movie_popularity = df.groupby('movie_name')['user_id'].count().reset_index()\n",
        "movie_popularity.columns = ['movie_name', 'num_views']\n",
        "\n",
        "# Paso 2: Ordenar las películas por popularidad (número de visualizaciones)\n",
        "movie_popularity = movie_popularity.sort_values(by='num_views', ascending=False)\n",
        "\n",
        "# Paso 3: Seleccionar las top 10 películas más populares\n",
        "top_10_movies = movie_popularity.head(10)\n",
        "\n",
        "# Mostrar las 10 películas más populares\n",
        "print(\"Top 10 películas más populares:\")\n",
        "print(top_10_movies)\n",
        "\n",
        "# Paso 4: Crear una función de recomendación para usuarios\n",
        "def recommend_top_n_movies(n=10):\n",
        "    # Retornar las N películas más populares\n",
        "    return movie_popularity.head(n)\n",
        "\n",
        "# Ejemplo: Recomendaciones de las 5 películas más populares\n",
        "top_5_movies = recommend_top_n_movies(5)\n",
        "print(\"Top 5 películas recomendadas por popularidad:\")\n",
        "print(top_5_movies)\n",
        "\n"
      ]
    },
    {
      "cell_type": "markdown",
      "source": [
        "- ¿Cómo implementaste el sistema de recomendación basado en las reglas de\n",
        "asociación?\n",
        "\n",
        "Para aplicar las reglas de asociación, se crea un conjunto de datos en una tabla de tipo transacción donde cada fila es un usuario o transacción y las columnas son las películas vistas o items, es decir, se realiza una transformación del DataFrame a un formato binario, donde 1 indica que un usuario ha visto una película y 0 indica que no la ha visto. Se estableció el soporte minimo según la cantidad de transacciones de los datos, y la confianza mínima del 70% y finalmente se generaron las reglas de asociación al aplicar los algoritmos Apriori y FP-Growth por separado para obtener itemsets mas frecuentes.\n",
        "\n",
        "Después de generar las reglas de asociación, se observaron aquellas que cumplen con ciertos criterios, como tener una alta confianza (mayor o igual a 70%) y lift alto (mayor o igual a 2).\n"
      ],
      "metadata": {
        "id": "z-0UalEv68Pr"
      }
    },
    {
      "cell_type": "code",
      "source": [
        "# Mostrar las reglas con confianza y lift más altos\n",
        "top_rules = rules[['antecedents', 'consequents', 'support', 'confidence', 'lift']].sort_values(by=['lift', 'confidence'], ascending=False)\n",
        "\n",
        "# Mostrar las 10 reglas más relevantes\n",
        "print(\"Top 10 reglas más relevantes:\")\n",
        "print(top_rules.head(10))\n",
        "\n",
        "# Películas más recomendadas basadas en las reglas más relevantes\n",
        "print(\"\\nPelículas más recomendadas (consecuentes más frecuentes):\")\n",
        "recommended_movies = top_rules['consequents'].explode().value_counts().head(10)\n",
        "print(recommended_movies)"
      ],
      "metadata": {
        "id": "bS0Jh91F0PIY",
        "outputId": "3c1872c0-d75d-483a-a92f-342cb91324c4",
        "colab": {
          "base_uri": "https://localhost:8080/"
        }
      },
      "execution_count": 17,
      "outputs": [
        {
          "output_type": "stream",
          "name": "stdout",
          "text": [
            "Top 10 reglas más relevantes:\n",
            "             antecedents         consequents   support  confidence      lift\n",
            "6446    (1200, 260, 589)        (1240, 1214)  0.153638    0.805871  3.525846\n",
            "6448   (1200, 260, 1240)         (589, 1214)  0.153638    0.792365  3.508321\n",
            "6865         (1200, 260)  (1240, 1196, 1214)  0.163748    0.705837  3.503252\n",
            "6863  (1240, 1196, 1214)         (1200, 260)  0.163748    0.812724  3.503252\n",
            "7216  (1240, 1196, 1214)         (1200, 589)  0.153096    0.759857  3.487031\n",
            "7221         (1200, 589)  (1240, 1196, 1214)  0.153096    0.702568  3.487031\n",
            "6157   (1196, 589, 1214)         (1200, 260)  0.159054    0.806777  3.477615\n",
            "7213   (1196, 589, 1214)        (1200, 1240)  0.153096    0.776557  3.460457\n",
            "6879  (2571, 1196, 1214)         (1200, 260)  0.155082    0.800559  3.450815\n",
            "6821  (1210, 1196, 1214)         (1200, 260)  0.161220    0.790265  3.406444\n",
            "\n",
            "Películas más recomendadas (consecuentes más frecuentes):\n",
            "consequents\n",
            "1196    2043\n",
            "260     1733\n",
            "1210    1135\n",
            "589      915\n",
            "2571     667\n",
            "1240     661\n",
            "1198     656\n",
            "480      281\n",
            "1270     278\n",
            "1580     147\n",
            "Name: count, dtype: int64\n"
          ]
        },
        {
          "output_type": "stream",
          "name": "stderr",
          "text": [
            "/usr/local/lib/python3.10/dist-packages/ipykernel/ipkernel.py:283: DeprecationWarning: `should_run_async` will not call `transform_cell` automatically in the future. Please pass the result to `transformed_cell` argument and any exception that happen during thetransform in `preprocessing_exc_tuple` in IPython 7.17 and above.\n",
            "  and should_run_async(code)\n"
          ]
        }
      ]
    },
    {
      "cell_type": "code",
      "source": [
        "# Función para recomendar películas basadas en reglas de asociación\n",
        "def recommend_movies(user_id, df, rules):\n",
        "    # Obtener las películas que ha visto el usuario\n",
        "    movies_watched = df[df['user_id'] == user_id]['movie_id'].unique()\n",
        "\n",
        "    # Buscar reglas donde las películas que ha visto están en el antecedent\n",
        "    recommendations = []\n",
        "    for movie in movies_watched:\n",
        "        recs = rules[rules['antecedents'].apply(lambda x: movie in x)]\n",
        "        recommendations.extend(list(recs['consequents'].explode().unique()))\n",
        "\n",
        "    # Filtrar las películas que el usuario ya ha visto\n",
        "    recommendations = [movie for movie in recommendations if movie not in movies_watched]\n",
        "\n",
        "    # Devolver las recomendaciones únicas\n",
        "    return list(set(recommendations))\n",
        "\n",
        "# Ejemplo de uso\n",
        "user_id = 1  # ID del usuario al que queremos recomendar\n",
        "recommended_movies = recommend_movies(user_id, df, filtered_rules)\n",
        "print(\"Películas recomendadas:\", recommended_movies)\n"
      ],
      "metadata": {
        "colab": {
          "base_uri": "https://localhost:8080/",
          "height": 248
        },
        "id": "lrgfJFpn59Hd",
        "outputId": "1c6c454e-ee67-472c-960d-d1590ff67704"
      },
      "execution_count": 16,
      "outputs": [
        {
          "output_type": "stream",
          "name": "stderr",
          "text": [
            "/usr/local/lib/python3.10/dist-packages/ipykernel/ipkernel.py:283: DeprecationWarning: `should_run_async` will not call `transform_cell` automatically in the future. Please pass the result to `transformed_cell` argument and any exception that happen during thetransform in `preprocessing_exc_tuple` in IPython 7.17 and above.\n",
            "  and should_run_async(code)\n"
          ]
        },
        {
          "output_type": "error",
          "ename": "NameError",
          "evalue": "name 'filtered_rules' is not defined",
          "traceback": [
            "\u001b[0;31m---------------------------------------------------------------------------\u001b[0m",
            "\u001b[0;31mNameError\u001b[0m                                 Traceback (most recent call last)",
            "\u001b[0;32m<ipython-input-16-6c1a6d407578>\u001b[0m in \u001b[0;36m<cell line: 20>\u001b[0;34m()\u001b[0m\n\u001b[1;32m     18\u001b[0m \u001b[0;31m# Ejemplo de uso\u001b[0m\u001b[0;34m\u001b[0m\u001b[0;34m\u001b[0m\u001b[0m\n\u001b[1;32m     19\u001b[0m \u001b[0muser_id\u001b[0m \u001b[0;34m=\u001b[0m \u001b[0;36m1\u001b[0m  \u001b[0;31m# ID del usuario al que queremos recomendar\u001b[0m\u001b[0;34m\u001b[0m\u001b[0;34m\u001b[0m\u001b[0m\n\u001b[0;32m---> 20\u001b[0;31m \u001b[0mrecommended_movies\u001b[0m \u001b[0;34m=\u001b[0m \u001b[0mrecommend_movies\u001b[0m\u001b[0;34m(\u001b[0m\u001b[0muser_id\u001b[0m\u001b[0;34m,\u001b[0m \u001b[0mdf\u001b[0m\u001b[0;34m,\u001b[0m \u001b[0mfiltered_rules\u001b[0m\u001b[0;34m)\u001b[0m\u001b[0;34m\u001b[0m\u001b[0;34m\u001b[0m\u001b[0m\n\u001b[0m\u001b[1;32m     21\u001b[0m \u001b[0mprint\u001b[0m\u001b[0;34m(\u001b[0m\u001b[0;34m\"Películas recomendadas:\"\u001b[0m\u001b[0;34m,\u001b[0m \u001b[0mrecommended_movies\u001b[0m\u001b[0;34m)\u001b[0m\u001b[0;34m\u001b[0m\u001b[0;34m\u001b[0m\u001b[0m\n",
            "\u001b[0;31mNameError\u001b[0m: name 'filtered_rules' is not defined"
          ]
        }
      ]
    },
    {
      "cell_type": "code",
      "source": [],
      "metadata": {
        "id": "BFOrY-ox59C4"
      },
      "execution_count": null,
      "outputs": []
    },
    {
      "cell_type": "markdown",
      "metadata": {
        "id": "FAt8EDuxLf1y"
      },
      "source": [
        "#### 3. Evolución hacia Filtrado Colaborativo:\n",
        "- ¿Cuáles son las principales diferencias entre el enfoque basado en reglas de\n",
        "asociación y el filtrado colaborativo?\n",
        "- ¿Cómo implementaste el sistema de recomendación item-to-item? ¿Qué\n",
        "algoritmos o técnicas utilizaste?\n",
        "- ¿Qué mejoras observaste en la calidad de las recomendaciones tras implementar el filtrado colaborativo?"
      ]
    },
    {
      "cell_type": "code",
      "execution_count": null,
      "metadata": {
        "id": "cRZBwU58Lf1z"
      },
      "outputs": [],
      "source": []
    }
  ],
  "metadata": {
    "accelerator": "GPU",
    "colab": {
      "gpuType": "T4",
      "provenance": [],
      "include_colab_link": true
    },
    "kernelspec": {
      "display_name": "Python 3",
      "name": "python3"
    },
    "language_info": {
      "codemirror_mode": {
        "name": "ipython",
        "version": 3
      },
      "file_extension": ".py",
      "mimetype": "text/x-python",
      "name": "python",
      "nbconvert_exporter": "python",
      "pygments_lexer": "ipython3",
      "version": "3.12.4"
    }
  },
  "nbformat": 4,
  "nbformat_minor": 0
}